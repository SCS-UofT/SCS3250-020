{
 "cells": [
  {
   "cell_type": "code",
   "execution_count": null,
   "metadata": {},
   "outputs": [],
   "source": [
    "import numpy as np\n",
    "import pandas as pd\n",
    "import matplotlib.pyplot as plt\n",
    "import pandas_datareader as pdr\n",
    "% matplotlib inline"
   ]
  },
  {
   "cell_type": "code",
   "execution_count": null,
   "metadata": {},
   "outputs": [],
   "source": [
    "import fix_yahoo_finance as fyf\n",
    "from pandas_datareader import data as pdr"
   ]
  },
  {
   "cell_type": "code",
   "execution_count": null,
   "metadata": {},
   "outputs": [],
   "source": [
    "fyf.pdr_override()"
   ]
  },
  {
   "cell_type": "code",
   "execution_count": null,
   "metadata": {},
   "outputs": [],
   "source": [
    "#tickers = ['APH', 'CRON.TO', 'EMH.V', 'OGI.V', 'WEED.TO']; NOT FOR ANALYSIS:'ACB.TO','FIRE.V', 'HEXO.TO', 'N.V', "
   ]
  },
  {
   "cell_type": "code",
   "execution_count": null,
   "metadata": {},
   "outputs": [],
   "source": [
    "APH_stocks = pdr.get_data_yahoo('APH', start = '2014-01-01')\n",
    "APH_stocks.head()"
   ]
  },
  {
   "cell_type": "code",
   "execution_count": null,
   "metadata": {},
   "outputs": [],
   "source": [
    "APH_IncSt = pd.read_csv('https://github.com/SCS-UofT/SCS3250-020/tree/master/DataFiles/APH.csv')\n",
    "APH_IncSt.rename(columns={'Revenue':'RC', '2017-12-31':'2017', '2016-12-31':'2016', '2015-12-31':'2015', \n",
    "                          '2014-12-31':'2014'}, inplace=True)\n",
    "APH_IncSt.set_index('RC',inplace = True)\n",
    "APH_IncSt.head()"
   ]
  },
  {
   "cell_type": "code",
   "execution_count": null,
   "metadata": {},
   "outputs": [],
   "source": [
    "APH_BalSh = pd.read_csv('https://github.com/SCS-UofT/SCS3250-020/tree/master/DataFiles/APH1.csv')#,dtype={'Period Ending':str,'2017-12-31': np.int32, \n",
    "                                                                    #       '2016-12-31':np.int32, '2015-12-31': np.int32, \n",
    "                                                                     #      '2014-12-31': np.int32}\n",
    "APH_BalSh.rename(columns={'Period Ending':'AL', '2017-12-31':'2017', '2016-12-31':'2016', '2015-12-31':'2015', \n",
    "                          '2014-12-31':'2014'}, inplace=True)\n",
    "APH_BalSh.set_index('AL',inplace = True)\n",
    "APH_BalSh.head()"
   ]
  },
  {
   "cell_type": "code",
   "execution_count": null,
   "metadata": {},
   "outputs": [],
   "source": [
    "CRON_stocks = pdr.get_data_yahoo('CRON.TO', start = '2014-01-01')\n",
    "CRON_stocks.head()"
   ]
  },
  {
   "cell_type": "code",
   "execution_count": null,
   "metadata": {},
   "outputs": [],
   "source": [
    "CRON_IncSt = pd.read_csv('https://github.com/SCS-UofT/SCS3250-020/tree/master/DataFiles/CRON.csv')\n",
    "CRON_IncSt.rename(columns={'Revenue':'RC', '2017-12-31':'2017', '2016-12-31':'2016', '2015-12-31':'2015', \n",
    "                          '2014-12-31':'2014'}, inplace=True)\n",
    "CRON_IncSt.set_index('RC',inplace = True)\n",
    "CRON_IncSt.head()"
   ]
  },
  {
   "cell_type": "code",
   "execution_count": null,
   "metadata": {},
   "outputs": [],
   "source": [
    "CRON_BalSh = pd.read_csv('https://github.com/SCS-UofT/SCS3250-020/tree/master/DataFiles/CRON1.csv')\n",
    "CRON_BalSh.rename(columns={'Period Ending':'AL', '2017-12-31':'2017', '2016-12-31':'2016', '2015-12-31':'2015', \n",
    "                          '2014-12-31':'2014'}, inplace=True)\n",
    "CRON_BalSh.set_index('AL',inplace = True)\n",
    "CRON_BalSh.head()\n"
   ]
  },
  {
   "cell_type": "code",
   "execution_count": null,
   "metadata": {},
   "outputs": [],
   "source": [
    "EMHV_stocks = pdr.get_data_yahoo('EMH.V', start = '2014-01-01')\n",
    "EMHV_stocks.head()"
   ]
  },
  {
   "cell_type": "code",
   "execution_count": null,
   "metadata": {},
   "outputs": [],
   "source": [
    "EMHV_IncSt = pd.read_csv('https://github.com/SCS-UofT/SCS3250-020/tree/master/DataFiles/EMHV.csv')\n",
    "EMHV_IncSt.rename(columns={'Revenue':'RC', '2017-12-31':'2017', '2016-12-31':'2016', '2015-12-31':'2015', \n",
    "                          '2014-12-31':'2014'}, inplace=True)\n",
    "EMHV_IncSt.set_index('RC',inplace = True)\n",
    "EMHV_IncSt.head()"
   ]
  },
  {
   "cell_type": "code",
   "execution_count": null,
   "metadata": {},
   "outputs": [],
   "source": [
    "EMHV_BalSh = pd.read_csv('https://github.com/SCS-UofT/SCS3250-020/tree/master/DataFiles/EMHV1.csv')\n",
    "EMHV_BalSh.rename(columns={'Period Ending':'AL', '2017-12-31':'2017', '2016-12-31':'2016', '2015-12-31':'2015', \n",
    "                          '2014-12-31':'2014'}, inplace=True)\n",
    "EMHV_BalSh.set_index('AL',inplace = True)\n",
    "EMHV_BalSh.head()"
   ]
  },
  {
   "cell_type": "code",
   "execution_count": null,
   "metadata": {},
   "outputs": [],
   "source": [
    "OGI_stocks = pdr.get_data_yahoo('OGI.V', start = '2014-01-01')\n",
    "OGI_stocks.head()"
   ]
  },
  {
   "cell_type": "code",
   "execution_count": null,
   "metadata": {},
   "outputs": [],
   "source": [
    "OGI_IncSt = pd.read_csv('https://github.com/SCS-UofT/SCS3250-020/tree/master/DataFiles/OGI.csv')\n",
    "OGI_IncSt.rename(columns={'Revenue':'RC', '2017-08-31':'2017', '2016-08-31':'2016', '2015-08-31':'2015', \n",
    "                          '2014-08-31':'2014'}, inplace=True)\n",
    "OGI_IncSt.set_index('RC',inplace = True)\n",
    "OGI_IncSt.head()"
   ]
  },
  {
   "cell_type": "code",
   "execution_count": null,
   "metadata": {},
   "outputs": [],
   "source": [
    "OGI_BalSh = pd.read_csv('https://github.com/SCS-UofT/SCS3250-020/tree/master/DataFiles/OGI1.csv')\n",
    "OGI_BalSh.rename(columns={'Period Ending':'AL', '2018-02-28':'2017', '2017-02-28':'2016', '2016-02-29':'2015', \n",
    "                          '2015-02-28':'2014'}, inplace=True)\n",
    "OGI_BalSh.set_index('AL',inplace = True)\n",
    "OGI_BalSh.head()"
   ]
  },
  {
   "cell_type": "code",
   "execution_count": null,
   "metadata": {},
   "outputs": [],
   "source": [
    "WEED_stocks = pdr.get_data_yahoo('WEED.TO', start = '2014-01-01')\n",
    "WEED_stocks.head()"
   ]
  },
  {
   "cell_type": "code",
   "execution_count": null,
   "metadata": {},
   "outputs": [],
   "source": [
    "WEED_IncSt = pd.read_csv('https://github.com/SCS-UofT/SCS3250-020/tree/master/DataFiles/WEED.csv')\n",
    "WEED_IncSt.rename(columns={'Revenue':'RC', '2018-03-31':'2017', '2017-03-31':'2016', '2016-03-31':'2015',\n",
    "                          '2015-03-31':'2014'}, inplace=True)\n",
    "WEED_IncSt.set_index('RC',inplace = True)\n",
    "WEED_IncSt.head()"
   ]
  },
  {
   "cell_type": "code",
   "execution_count": null,
   "metadata": {},
   "outputs": [],
   "source": [
    "WEED_BalSh = pd.read_csv('https://github.com/SCS-UofT/SCS3250-020/tree/master/DataFiles/WEED1.csv')\n",
    "WEED_BalSh.rename(columns={'Period Ending':'AL', '2018-03-31':'2017', '2017-03-31':'2016', '2016-03-31':'2015',\n",
    "                          '2015-03-31':'2014'}, inplace=True)\n",
    "WEED_BalSh.set_index('AL',inplace = True)\n",
    "WEED_BalSh.head()"
   ]
  },
  {
   "cell_type": "code",
   "execution_count": null,
   "metadata": {},
   "outputs": [],
   "source": [
    "NetIncome = pd.DataFrame({'APH':APH_IncSt.loc['Net Income'],'CRON':CRON_IncSt.loc['Net Income'],\n",
    "                          'EMHV':EMHV_IncSt.loc['Net Income'],'OGI':OGI_IncSt.loc['Net Income'],\n",
    "                          'WEED':WEED_IncSt.loc['Net Income']})\n",
    "NetIncome.index.names = ['Year']\n",
    "NetIncome.index = pd.to_numeric(NetIncome.index)\n",
    "NetIncome.index = NetIncome.index.astype(dtype='object')\n",
    "NetIncome"
   ]
  },
  {
   "cell_type": "code",
   "execution_count": null,
   "metadata": {},
   "outputs": [],
   "source": [
    "TLiabilities = pd.DataFrame({'APH':APH_BalSh.loc['Total Liabilities'],'CRON':CRON_BalSh.loc['Total Liabilities'],\n",
    "                             'EMHV':EMHV_BalSh.loc['Total Liabilities'],'OGI':OGI_BalSh.loc['Total Liabilities'],\n",
    "                             'WEED':WEED_BalSh.loc['Total Liabilities']})\n",
    "TLiabilities.index.names = ['Year']\n",
    "TLiabilities.index = pd.to_numeric(TLiabilities.index)\n",
    "TLiabilities.index = TLiabilities.index.astype(dtype='object')\n",
    "TLiabilities"
   ]
  },
  {
   "cell_type": "code",
   "execution_count": null,
   "metadata": {},
   "outputs": [],
   "source": [
    "TAssets = pd.DataFrame({'APH':APH_BalSh.loc['Total Assets'],'CRON':CRON_BalSh.loc['Total Assets'],\n",
    "                             'EMHV':EMHV_BalSh.loc['Total Assets'],'OGI':OGI_BalSh.loc['Total Assets'],\n",
    "                             'WEED':WEED_BalSh.loc['Total Assets']})\n",
    "TAssets.index.names = ['Year']\n",
    "TAssets.index = pd.to_numeric(TAssets.index)\n",
    "TAssets.index = TAssets.index.astype(dtype='object')\n",
    "TAssets"
   ]
  },
  {
   "cell_type": "code",
   "execution_count": null,
   "metadata": {},
   "outputs": [],
   "source": [
    "CLiabilities = pd.DataFrame({'APH':APH_BalSh.loc['Total Current Liabilities'],'CRON':CRON_BalSh.loc['Total Current Liabilities'],\n",
    "                             'EMHV':EMHV_BalSh.loc['Total Current Liabilities'],'OGI':OGI_BalSh.loc['Total Current Liabilities'],\n",
    "                             'WEED':WEED_BalSh.loc['Total Current Liabilities']})\n",
    "CLiabilities.index.names = ['Year']\n",
    "CLiabilities.index = pd.to_numeric(CLiabilities.index)\n",
    "CLiabilities.index = CLiabilities.index.astype(dtype='object')\n",
    "CLiabilities"
   ]
  },
  {
   "cell_type": "code",
   "execution_count": null,
   "metadata": {},
   "outputs": [],
   "source": [
    "CAssets = pd.DataFrame({'APH':APH_BalSh.loc['Total Current Assets'],'CRON':CRON_BalSh.loc['Total Current Assets'],\n",
    "                             'EMHV':EMHV_BalSh.loc['Total Current Assets'],'OGI':OGI_BalSh.loc['Total Current Assets'],\n",
    "                             'WEED':WEED_BalSh.loc['Total Current Assets']})\n",
    "CAssets.index.names = ['Year']\n",
    "CAssets.index = pd.to_numeric(CAssets.index)\n",
    "CAssets.index = CAssets.index.astype(dtype='object')\n",
    "CAssets"
   ]
  },
  {
   "cell_type": "code",
   "execution_count": null,
   "metadata": {},
   "outputs": [],
   "source": [
    "SHEquity = pd.DataFrame({'APH':APH_BalSh.loc['Total Stockholder Equity'],'CRON':CRON_BalSh.loc['Total Stockholder Equity'],\n",
    "                             'EMHV':EMHV_BalSh.loc['Total Stockholder Equity'],'OGI':OGI_BalSh.loc['Total Stockholder Equity'],\n",
    "                             'WEED':WEED_BalSh.loc['Total Stockholder Equity']})\n",
    "SHEquity.index.names = ['Year']\n",
    "SHEquity.index = pd.to_numeric(SHEquity.index)\n",
    "SHEquity.index = SHEquity.index.astype(dtype='object')\n",
    "SHEquity"
   ]
  },
  {
   "cell_type": "code",
   "execution_count": null,
   "metadata": {},
   "outputs": [],
   "source": [
    "CommonStock = pd.DataFrame({'APH': APH_BalSh.loc['Common Stock'],\n",
    "                            'CRON': CRON_BalSh.loc['Common Stock'],\n",
    "                             'EMHV':EMHV_BalSh.loc['Common Stock'],\n",
    "                             'OGI':OGI_BalSh.loc['Common Stock'],\n",
    "                             'WEED':WEED_BalSh.loc['Common Stock']})\n",
    "CommonStock.index.names = ['Year']\n",
    "CommonStock.index = pd.to_numeric(CommonStock.index)\n",
    "CommonStock.index = CommonStock.index.astype(dtype='object')\n",
    "CommonStock\n"
   ]
  },
  {
   "cell_type": "code",
   "execution_count": null,
   "metadata": {},
   "outputs": [],
   "source": [
    "AnnualAveClose = pd.DataFrame({'APH':APH_stocks['Adj Close'].groupby(APH_stocks.index.year).mean(),\n",
    "                               'CRON':CRON_stocks['Adj Close'].groupby(CRON_stocks.index.year).mean(),\n",
    "                             'EMHV':EMHV_stocks['Adj Close'].groupby(EMHV_stocks.index.year).mean(),\n",
    "                             'OGI':OGI_stocks['Adj Close'].groupby(OGI_stocks.index.year).mean(),\n",
    "                             'WEED':WEED_stocks['Adj Close'].groupby(WEED_stocks.index.year).mean()}).sort_index(ascending=0)\n",
    "AnnualAveClose.index.names = ['Year']\n",
    "AnnualAveClose.index = AnnualAveClose.index.astype(dtype='object')\n",
    "AnnualAveClose.drop(AnnualAveClose.index[0], inplace = True)\n",
    "AnnualAveClose"
   ]
  },
  {
   "cell_type": "code",
   "execution_count": null,
   "metadata": {},
   "outputs": [],
   "source": [
    "MarketValue= pd.DataFrame({'APH': AnnualAveClose['APH'] * CommonStock['APH'],\n",
    "                           'CRON': AnnualAveClose['CRON'] * CommonStock['CRON'],\n",
    "                           'EMHV': AnnualAveClose['EMHV'] * CommonStock['EMHV'],\n",
    "                           'OGI': AnnualAveClose['OGI'] * CommonStock['OGI'],\n",
    "                          'WEED': AnnualAveClose['WEED'] * CommonStock['WEED']})\n",
    "                                                                                                                                 \n",
    "MarketValue.index = MarketValue.index.astype(dtype='object')\n",
    "MarketValue"
   ]
  },
  {
   "cell_type": "code",
   "execution_count": null,
   "metadata": {},
   "outputs": [],
   "source": [
    "DebtRatio = pd.DataFrame({'APH': TLiabilities['APH'] / TAssets['APH'],\n",
    "                           'CRON': TLiabilities['CRON'] / TAssets['CRON'],\n",
    "                           'EMHV': TLiabilities['EMHV'] / TAssets['EMHV'],\n",
    "                           'OGI': TLiabilities['OGI'] / TAssets['OGI'],\n",
    "                           'WEED': TLiabilities['WEED'] / TAssets['WEED']})\n",
    "DebtRatio"
   ]
  },
  {
   "cell_type": "code",
   "execution_count": null,
   "metadata": {},
   "outputs": [],
   "source": [
    "CurrentRatio = pd.DataFrame({'APH': CAssets['APH'] / CLiabilities['APH'],\n",
    "                           'CRON': CAssets['CRON'] / CLiabilities['CRON'],\n",
    "                           'EMHV': CAssets['EMHV'] / CLiabilities['EMHV'],\n",
    "                           'OGI': CAssets['OGI'] / CLiabilities['OGI'],\n",
    "                           'WEED': CAssets['WEED'] / CLiabilities['WEED']})\n",
    "CurrentRatio"
   ]
  },
  {
   "cell_type": "code",
   "execution_count": null,
   "metadata": {},
   "outputs": [],
   "source": [
    "RetOnEq = pd.DataFrame({'APH': NetIncome['APH'] / SHEquity['APH'],\n",
    "                           'CRON': NetIncome['CRON'] / SHEquity['CRON'],\n",
    "                           'EMHV': NetIncome['EMHV'] / SHEquity['EMHV'],\n",
    "                           'OGI': NetIncome['OGI'] / SHEquity['OGI'],\n",
    "                           'WEED': NetIncome['WEED'] / SHEquity['WEED']})\n",
    "RetOnEq"
   ]
  },
  {
   "cell_type": "code",
   "execution_count": null,
   "metadata": {},
   "outputs": [],
   "source": [
    "PriceEarning = pd.DataFrame({'APH': MarketValue['APH'] / NetIncome['APH'],\n",
    "                           'CRON': MarketValue['CRON'] / NetIncome['CRON'],\n",
    "                           'EMHV': MarketValue['EMHV'] / NetIncome['EMHV'],\n",
    "                           'OGI': MarketValue['OGI'] / NetIncome['OGI'],\n",
    "                           'WEED': MarketValue['WEED'] / NetIncome['WEED']})\n",
    "PriceEarning"
   ]
  },
  {
   "cell_type": "markdown",
   "metadata": {},
   "source": [
    "# Helper Code"
   ]
  },
  {
   "cell_type": "code",
   "execution_count": null,
   "metadata": {},
   "outputs": [],
   "source": [
    "AnnualAveClose['CRON']"
   ]
  },
  {
   "cell_type": "code",
   "execution_count": null,
   "metadata": {},
   "outputs": [],
   "source": [
    "APH_stocks['Adj Close'].groupby(APH_stocks.index.year).mean()"
   ]
  },
  {
   "cell_type": "code",
   "execution_count": null,
   "metadata": {},
   "outputs": [],
   "source": [
    "CRON_stocks['Adj Close'].groupby(CRON_stocks.index.year).mean()"
   ]
  },
  {
   "cell_type": "code",
   "execution_count": null,
   "metadata": {},
   "outputs": [],
   "source": [
    "EMHV_stocks['Adj Close'].groupby(EMHV_stocks.index.year).mean()"
   ]
  },
  {
   "cell_type": "code",
   "execution_count": null,
   "metadata": {},
   "outputs": [],
   "source": [
    "OGI_stocks['Adj Close'].groupby(OGI_stocks.index.year).mean()"
   ]
  },
  {
   "cell_type": "code",
   "execution_count": null,
   "metadata": {},
   "outputs": [],
   "source": [
    "WEED_stocks['Adj Close'].groupby(WEED_stocks.index.year).mean()"
   ]
  },
  {
   "cell_type": "code",
   "execution_count": null,
   "metadata": {},
   "outputs": [],
   "source": [
    "APH_NetIncome = APH_IncSt.loc['Net Income'].to_frame(name='APH')\n",
    "APH_NetIncome"
   ]
  },
  {
   "cell_type": "code",
   "execution_count": null,
   "metadata": {},
   "outputs": [],
   "source": [
    "CRON_NetIncome = CRON_IncSt.loc['Net Income'].to_frame(name='CRON')\n",
    "CRON_NetIncome"
   ]
  },
  {
   "cell_type": "code",
   "execution_count": null,
   "metadata": {},
   "outputs": [],
   "source": [
    "EMHV_NetIncome = EMHV_IncSt.loc['Net Income'].to_frame(name='EMHV')\n",
    "EMHV_NetIncome"
   ]
  },
  {
   "cell_type": "code",
   "execution_count": null,
   "metadata": {
    "scrolled": true
   },
   "outputs": [],
   "source": [
    "OGI_NetIncome = OGI_IncSt.loc['Net Income'].to_frame(name='OGI')\n",
    "OGI_NetIncome"
   ]
  },
  {
   "cell_type": "code",
   "execution_count": null,
   "metadata": {},
   "outputs": [],
   "source": [
    "WEED_NetIncome = WEED_IncSt.loc['Net Income'].to_frame(name='WEED')\n",
    "WEED_NetIncome"
   ]
  },
  {
   "cell_type": "code",
   "execution_count": null,
   "metadata": {},
   "outputs": [],
   "source": [
    "#ACB_stocks = pdr.get_data_yahoo('ACB.TO', start = '2015-01-01')\n",
    "#ACB_stocks.head()"
   ]
  },
  {
   "cell_type": "code",
   "execution_count": null,
   "metadata": {},
   "outputs": [],
   "source": [
    "#ACB_IncSt = pd.read_csv(r'C:\\Users\\annam\\SCS\\Data4Project\\ACB.csv')\n",
    "#ACB_IncSt.rename(columns={'Revenue':'RC'}, inplace=True)\n",
    "#ACB_IncSt.set_index('RC',inplace = True)\n",
    "#ACB_IncSt"
   ]
  },
  {
   "cell_type": "code",
   "execution_count": null,
   "metadata": {},
   "outputs": [],
   "source": [
    "#ACB_BalSh = pd.read_csv(r'C:\\Users\\annam\\SCS\\Data4Project\\ACB1.csv')\n",
    "#ACB_BalSh.rename(columns={'Period Ending':'AL'}, inplace=True)\n",
    "#ACB_BalSh.set_index('AL',inplace = True)\n",
    "#ACB_BalSh"
   ]
  },
  {
   "cell_type": "code",
   "execution_count": null,
   "metadata": {},
   "outputs": [],
   "source": [
    "#FIRE_stocks = pdr.get_data_yahoo('FIRE.V', start = '2015-01-01')\n",
    "#FIRE_stocks.head()"
   ]
  },
  {
   "cell_type": "code",
   "execution_count": null,
   "metadata": {},
   "outputs": [],
   "source": [
    "#FIREV_IncSt = pd.read_csv(r'C:\\Users\\annam\\SCS\\Data4Project\\FIRE.csv')\n",
    "#FIREV_IncSt.rename(columns={'Revenue':'RC'}, inplace=True)\n",
    "#FIREV_IncSt.set_index('RC',inplace = True)\n",
    "#FIREV_IncSt"
   ]
  },
  {
   "cell_type": "code",
   "execution_count": null,
   "metadata": {},
   "outputs": [],
   "source": [
    "#FIREV_BalSh = pd.read_csv(r'C:\\Users\\annam\\SCS\\Data4Project\\FIRE1.csv')\n",
    "#FIREV_BalSh.rename(columns={'Period Ending':'AL'}, inplace=True)\n",
    "#FIREV_BalSh.set_index('AL',inplace = True)\n",
    "#FIREV_BalSh"
   ]
  },
  {
   "cell_type": "code",
   "execution_count": null,
   "metadata": {},
   "outputs": [],
   "source": [
    "#HEXO_stocks = pdr.get_data_yahoo('HEXO.TO', start = '2015-01-01')\n",
    "#HEXO_stocks.head()"
   ]
  },
  {
   "cell_type": "code",
   "execution_count": null,
   "metadata": {},
   "outputs": [],
   "source": [
    "#HEXO_IncSt = pd.read_csv(r'C:\\Users\\annam\\SCS\\Data4Project\\HEXO.csv')\n",
    "#HEXO_IncSt.rename(columns={'Revenue':'RC'}, inplace=True)\n",
    "#HEXO_IncSt.set_index('RC',inplace = True)\n",
    "#HEXO_IncSt"
   ]
  },
  {
   "cell_type": "code",
   "execution_count": null,
   "metadata": {},
   "outputs": [],
   "source": [
    "#HEXO_BalSh = pd.read_csv(r'C:\\Users\\annam\\SCS\\Data4Project\\HEXO1.csv')\n",
    "#HEXO_BalSh.rename(columns={'Period Ending':'AL'}, inplace=True)\n",
    "#HEXO_BalSh.set_index('AL',inplace = True)\n",
    "#HEXO_BalSh"
   ]
  },
  {
   "cell_type": "code",
   "execution_count": null,
   "metadata": {},
   "outputs": [],
   "source": [
    "#NAM_stocks = pdr.get_data_yahoo('N.V', start = '2015-01-01')\n",
    "#NAM_stocks.head()"
   ]
  },
  {
   "cell_type": "code",
   "execution_count": null,
   "metadata": {},
   "outputs": [],
   "source": [
    "#NAM_IncSt = pd.read_csv(r'C:\\Users\\annam\\SCS\\Data4Project\\NAM.csv')\n",
    "#NAM_IncSt.rename(columns={'Revenue':'RC'}, inplace=True)\n",
    "#NAM_IncSt.set_index('RC',inplace = True)\n",
    "#NAM_IncSt"
   ]
  },
  {
   "cell_type": "code",
   "execution_count": null,
   "metadata": {},
   "outputs": [],
   "source": [
    "#NAM_BalSh = pd.read_csv(r'C:\\Users\\annam\\SCS\\Data4Project\\NAM1.csv')\n",
    "#NAM_BalSh.rename(columns={'Period Ending':'AL'}, inplace=True)\n",
    "#NAM_BalSh.set_index('AL',inplace = True)\n",
    "#NAM_BalSh"
   ]
  },
  {
   "cell_type": "code",
   "execution_count": null,
   "metadata": {},
   "outputs": [],
   "source": []
  }
 ],
 "metadata": {
  "kernelspec": {
   "display_name": "Python 3",
   "language": "python",
   "name": "python3"
  },
  "language_info": {
   "codemirror_mode": {
    "name": "ipython",
    "version": 3
   },
   "file_extension": ".py",
   "mimetype": "text/x-python",
   "name": "python",
   "nbconvert_exporter": "python",
   "pygments_lexer": "ipython3",
   "version": "3.6.5"
  }
 },
 "nbformat": 4,
 "nbformat_minor": 2
}
